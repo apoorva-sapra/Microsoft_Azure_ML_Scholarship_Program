{
 "cells": [
  {
   "cell_type": "code",
   "execution_count": 1,
   "metadata": {},
   "outputs": [],
   "source": [
    "import pandas as pd\n",
    "import numpy as np\n",
    "import matplotlib.pyplot as plt\n",
    "from sklearn.linear_model import LinearRegression,LogisticRegression\n",
    "from sklearn.model_selection import train_test_split    \n",
    "from sklearn import preprocessing\n",
    "from sklearn.ensemble import RandomForestClassifier\n",
    "from sklearn.feature_selection import SelectFromModel\n",
    "from sklearn.metrics import mean_squared_error,mean_absolute_error"
   ]
  },
  {
   "cell_type": "markdown",
   "metadata": {},
   "source": [
    "## Data Import"
   ]
  },
  {
   "cell_type": "code",
   "execution_count": 2,
   "metadata": {},
   "outputs": [
    {
     "data": {
      "text/html": [
       "<div>\n",
       "<style scoped>\n",
       "    .dataframe tbody tr th:only-of-type {\n",
       "        vertical-align: middle;\n",
       "    }\n",
       "\n",
       "    .dataframe tbody tr th {\n",
       "        vertical-align: top;\n",
       "    }\n",
       "\n",
       "    .dataframe thead th {\n",
       "        text-align: right;\n",
       "    }\n",
       "</style>\n",
       "<table border=\"1\" class=\"dataframe\">\n",
       "  <thead>\n",
       "    <tr style=\"text-align: right;\">\n",
       "      <th></th>\n",
       "      <th>vendorID</th>\n",
       "      <th>passengerCount</th>\n",
       "      <th>tripDistance</th>\n",
       "      <th>hour_of_day</th>\n",
       "      <th>day_of_week</th>\n",
       "      <th>day_of_month</th>\n",
       "      <th>month_num</th>\n",
       "      <th>normalizeHolidayName</th>\n",
       "      <th>isPaidTimeOff</th>\n",
       "      <th>snowDepth</th>\n",
       "      <th>precipTime</th>\n",
       "      <th>precipDepth</th>\n",
       "      <th>temperature</th>\n",
       "      <th>totalAmount</th>\n",
       "    </tr>\n",
       "  </thead>\n",
       "  <tbody>\n",
       "    <tr>\n",
       "      <th>0</th>\n",
       "      <td>1</td>\n",
       "      <td>1</td>\n",
       "      <td>9.40</td>\n",
       "      <td>15</td>\n",
       "      <td>2</td>\n",
       "      <td>27</td>\n",
       "      <td>1</td>\n",
       "      <td>None</td>\n",
       "      <td>False</td>\n",
       "      <td>29.058824</td>\n",
       "      <td>24.0</td>\n",
       "      <td>3.0</td>\n",
       "      <td>6.185714</td>\n",
       "      <td>44.30</td>\n",
       "    </tr>\n",
       "    <tr>\n",
       "      <th>1</th>\n",
       "      <td>2</td>\n",
       "      <td>5</td>\n",
       "      <td>14.75</td>\n",
       "      <td>13</td>\n",
       "      <td>4</td>\n",
       "      <td>15</td>\n",
       "      <td>1</td>\n",
       "      <td>None</td>\n",
       "      <td>False</td>\n",
       "      <td>0.000000</td>\n",
       "      <td>6.0</td>\n",
       "      <td>0.0</td>\n",
       "      <td>4.571930</td>\n",
       "      <td>44.80</td>\n",
       "    </tr>\n",
       "    <tr>\n",
       "      <th>2</th>\n",
       "      <td>2</td>\n",
       "      <td>1</td>\n",
       "      <td>3.35</td>\n",
       "      <td>23</td>\n",
       "      <td>4</td>\n",
       "      <td>8</td>\n",
       "      <td>1</td>\n",
       "      <td>None</td>\n",
       "      <td>False</td>\n",
       "      <td>0.000000</td>\n",
       "      <td>1.0</td>\n",
       "      <td>0.0</td>\n",
       "      <td>4.384091</td>\n",
       "      <td>18.96</td>\n",
       "    </tr>\n",
       "    <tr>\n",
       "      <th>3</th>\n",
       "      <td>2</td>\n",
       "      <td>1</td>\n",
       "      <td>3.33</td>\n",
       "      <td>18</td>\n",
       "      <td>2</td>\n",
       "      <td>27</td>\n",
       "      <td>1</td>\n",
       "      <td>None</td>\n",
       "      <td>False</td>\n",
       "      <td>29.058824</td>\n",
       "      <td>24.0</td>\n",
       "      <td>3.0</td>\n",
       "      <td>6.185714</td>\n",
       "      <td>16.30</td>\n",
       "    </tr>\n",
       "    <tr>\n",
       "      <th>4</th>\n",
       "      <td>2</td>\n",
       "      <td>1</td>\n",
       "      <td>0.47</td>\n",
       "      <td>17</td>\n",
       "      <td>6</td>\n",
       "      <td>3</td>\n",
       "      <td>1</td>\n",
       "      <td>None</td>\n",
       "      <td>False</td>\n",
       "      <td>0.000000</td>\n",
       "      <td>1.0</td>\n",
       "      <td>0.0</td>\n",
       "      <td>3.846429</td>\n",
       "      <td>5.30</td>\n",
       "    </tr>\n",
       "    <tr>\n",
       "      <th>...</th>\n",
       "      <td>...</td>\n",
       "      <td>...</td>\n",
       "      <td>...</td>\n",
       "      <td>...</td>\n",
       "      <td>...</td>\n",
       "      <td>...</td>\n",
       "      <td>...</td>\n",
       "      <td>...</td>\n",
       "      <td>...</td>\n",
       "      <td>...</td>\n",
       "      <td>...</td>\n",
       "      <td>...</td>\n",
       "      <td>...</td>\n",
       "      <td>...</td>\n",
       "    </tr>\n",
       "    <tr>\n",
       "      <th>11729</th>\n",
       "      <td>2</td>\n",
       "      <td>1</td>\n",
       "      <td>7.47</td>\n",
       "      <td>13</td>\n",
       "      <td>2</td>\n",
       "      <td>22</td>\n",
       "      <td>6</td>\n",
       "      <td>None</td>\n",
       "      <td>False</td>\n",
       "      <td>0.000000</td>\n",
       "      <td>1.0</td>\n",
       "      <td>0.0</td>\n",
       "      <td>25.704425</td>\n",
       "      <td>35.81</td>\n",
       "    </tr>\n",
       "    <tr>\n",
       "      <th>11730</th>\n",
       "      <td>2</td>\n",
       "      <td>1</td>\n",
       "      <td>3.76</td>\n",
       "      <td>0</td>\n",
       "      <td>3</td>\n",
       "      <td>16</td>\n",
       "      <td>6</td>\n",
       "      <td>None</td>\n",
       "      <td>False</td>\n",
       "      <td>0.000000</td>\n",
       "      <td>24.0</td>\n",
       "      <td>51.0</td>\n",
       "      <td>21.695868</td>\n",
       "      <td>16.30</td>\n",
       "    </tr>\n",
       "    <tr>\n",
       "      <th>11731</th>\n",
       "      <td>2</td>\n",
       "      <td>1</td>\n",
       "      <td>3.45</td>\n",
       "      <td>14</td>\n",
       "      <td>5</td>\n",
       "      <td>4</td>\n",
       "      <td>6</td>\n",
       "      <td>None</td>\n",
       "      <td>False</td>\n",
       "      <td>0.000000</td>\n",
       "      <td>24.0</td>\n",
       "      <td>41.0</td>\n",
       "      <td>21.990441</td>\n",
       "      <td>14.30</td>\n",
       "    </tr>\n",
       "    <tr>\n",
       "      <th>11732</th>\n",
       "      <td>1</td>\n",
       "      <td>1</td>\n",
       "      <td>20.20</td>\n",
       "      <td>1</td>\n",
       "      <td>6</td>\n",
       "      <td>19</td>\n",
       "      <td>6</td>\n",
       "      <td>None</td>\n",
       "      <td>False</td>\n",
       "      <td>0.000000</td>\n",
       "      <td>1.0</td>\n",
       "      <td>0.0</td>\n",
       "      <td>23.116071</td>\n",
       "      <td>68.15</td>\n",
       "    </tr>\n",
       "    <tr>\n",
       "      <th>11733</th>\n",
       "      <td>2</td>\n",
       "      <td>1</td>\n",
       "      <td>3.03</td>\n",
       "      <td>18</td>\n",
       "      <td>6</td>\n",
       "      <td>19</td>\n",
       "      <td>6</td>\n",
       "      <td>None</td>\n",
       "      <td>False</td>\n",
       "      <td>0.000000</td>\n",
       "      <td>1.0</td>\n",
       "      <td>0.0</td>\n",
       "      <td>23.116071</td>\n",
       "      <td>15.30</td>\n",
       "    </tr>\n",
       "  </tbody>\n",
       "</table>\n",
       "<p>11734 rows × 14 columns</p>\n",
       "</div>"
      ],
      "text/plain": [
       "       vendorID  passengerCount  tripDistance  hour_of_day  day_of_week  \\\n",
       "0             1               1          9.40           15            2   \n",
       "1             2               5         14.75           13            4   \n",
       "2             2               1          3.35           23            4   \n",
       "3             2               1          3.33           18            2   \n",
       "4             2               1          0.47           17            6   \n",
       "...         ...             ...           ...          ...          ...   \n",
       "11729         2               1          7.47           13            2   \n",
       "11730         2               1          3.76            0            3   \n",
       "11731         2               1          3.45           14            5   \n",
       "11732         1               1         20.20            1            6   \n",
       "11733         2               1          3.03           18            6   \n",
       "\n",
       "       day_of_month  month_num normalizeHolidayName  isPaidTimeOff  snowDepth  \\\n",
       "0                27          1                 None          False  29.058824   \n",
       "1                15          1                 None          False   0.000000   \n",
       "2                 8          1                 None          False   0.000000   \n",
       "3                27          1                 None          False  29.058824   \n",
       "4                 3          1                 None          False   0.000000   \n",
       "...             ...        ...                  ...            ...        ...   \n",
       "11729            22          6                 None          False   0.000000   \n",
       "11730            16          6                 None          False   0.000000   \n",
       "11731             4          6                 None          False   0.000000   \n",
       "11732            19          6                 None          False   0.000000   \n",
       "11733            19          6                 None          False   0.000000   \n",
       "\n",
       "       precipTime  precipDepth  temperature  totalAmount  \n",
       "0            24.0          3.0     6.185714        44.30  \n",
       "1             6.0          0.0     4.571930        44.80  \n",
       "2             1.0          0.0     4.384091        18.96  \n",
       "3            24.0          3.0     6.185714        16.30  \n",
       "4             1.0          0.0     3.846429         5.30  \n",
       "...           ...          ...          ...          ...  \n",
       "11729         1.0          0.0    25.704425        35.81  \n",
       "11730        24.0         51.0    21.695868        16.30  \n",
       "11731        24.0         41.0    21.990441        14.30  \n",
       "11732         1.0          0.0    23.116071        68.15  \n",
       "11733         1.0          0.0    23.116071        15.30  \n",
       "\n",
       "[11734 rows x 14 columns]"
      ]
     },
     "execution_count": 2,
     "metadata": {},
     "output_type": "execute_result"
    }
   ],
   "source": [
    "url = 'https://introtomlsampledata.blob.core.windows.net/data/nyc-taxi/nyc-taxi-sample-data.csv'\n",
    "raw_data = pd.read_csv(url)\n",
    "raw_data"
   ]
  },
  {
   "cell_type": "code",
   "execution_count": 3,
   "metadata": {},
   "outputs": [
    {
     "name": "stdout",
     "output_type": "stream",
     "text": [
      "<class 'pandas.core.frame.DataFrame'>\n",
      "RangeIndex: 11734 entries, 0 to 11733\n",
      "Data columns (total 14 columns):\n",
      " #   Column                Non-Null Count  Dtype  \n",
      "---  ------                --------------  -----  \n",
      " 0   vendorID              11734 non-null  int64  \n",
      " 1   passengerCount        11734 non-null  int64  \n",
      " 2   tripDistance          11734 non-null  float64\n",
      " 3   hour_of_day           11734 non-null  int64  \n",
      " 4   day_of_week           11734 non-null  int64  \n",
      " 5   day_of_month          11734 non-null  int64  \n",
      " 6   month_num             11734 non-null  int64  \n",
      " 7   normalizeHolidayName  11734 non-null  object \n",
      " 8   isPaidTimeOff         11734 non-null  bool   \n",
      " 9   snowDepth             11734 non-null  float64\n",
      " 10  precipTime            11734 non-null  float64\n",
      " 11  precipDepth           11734 non-null  float64\n",
      " 12  temperature           11734 non-null  float64\n",
      " 13  totalAmount           11734 non-null  float64\n",
      "dtypes: bool(1), float64(6), int64(6), object(1)\n",
      "memory usage: 1.2+ MB\n"
     ]
    }
   ],
   "source": [
    "#info regarding dataset (total no. of columns, rows and their respective datatypes) \n",
    "raw_data.info()"
   ]
  },
  {
   "cell_type": "markdown",
   "metadata": {},
   "source": [
    "## Data Preparation"
   ]
  },
  {
   "cell_type": "code",
   "execution_count": 6,
   "metadata": {},
   "outputs": [],
   "source": [
    "#Drop categorical variables \n",
    "data = raw_data.select_dtypes(exclude = 'object')"
   ]
  },
  {
   "cell_type": "code",
   "execution_count": 7,
   "metadata": {},
   "outputs": [],
   "source": [
    "#separate target from predictors\n",
    "y = round(data['totalAmount'],0) #Target #SelectFromModel doesnt accept continuous Targets so round to int\n",
    "X = data.drop('totalAmount', axis=1)#Predictors"
   ]
  },
  {
   "cell_type": "code",
   "execution_count": 8,
   "metadata": {},
   "outputs": [],
   "source": [
    "#Select the features from the train set and then transfer the changes to the test set later.\n",
    "X_train,X_test,y_train,y_test = train_test_split(X,y,test_size=0.3)"
   ]
  },
  {
   "cell_type": "markdown",
   "metadata": {},
   "source": [
    "## Train a model using All predictors"
   ]
  },
  {
   "cell_type": "code",
   "execution_count": 10,
   "metadata": {},
   "outputs": [
    {
     "name": "stdout",
     "output_type": "stream",
     "text": [
      "('vendorID', 0.0358266014900053)\n",
      "('passengerCount', 0.03681537145975269)\n",
      "('tripDistance', 0.3699341792967585)\n",
      "('hour_of_day', 0.189608489446079)\n",
      "('day_of_week', 0.058978535431663655)\n",
      "('day_of_month', 0.08491278148851807)\n",
      "('month_num', 0.04453088266561913)\n",
      "('isPaidTimeOff', 0.002067138048768141)\n",
      "('snowDepth', 0.012702257762409899)\n",
      "('precipTime', 0.02490860642624006)\n",
      "('precipDepth', 0.048490848067996375)\n",
      "('temperature', 0.09122430841618906)\n"
     ]
    }
   ],
   "source": [
    "# Create a random forest classifier\n",
    "rfc = RandomForestClassifier(n_estimators=100, random_state=0, n_jobs=-1)\n",
    "# Train the classifier\n",
    "rfc.fit(X_train, y_train)"
   ]
  },
  {
   "cell_type": "markdown",
   "metadata": {},
   "source": [
    "## Feature Importance"
   ]
  },
  {
   "cell_type": "code",
   "execution_count": 18,
   "metadata": {},
   "outputs": [
    {
     "name": "stdout",
     "output_type": "stream",
     "text": [
      "('vendorID', 0.0358266014900053)\n",
      "('passengerCount', 0.03681537145975269)\n",
      "('tripDistance', 0.3699341792967585)\n",
      "('hour_of_day', 0.189608489446079)\n",
      "('day_of_week', 0.058978535431663655)\n",
      "('day_of_month', 0.08491278148851807)\n",
      "('month_num', 0.04453088266561913)\n",
      "('isPaidTimeOff', 0.002067138048768141)\n",
      "('snowDepth', 0.012702257762409899)\n",
      "('precipTime', 0.02490860642624006)\n",
      "('precipDepth', 0.048490848067996375)\n",
      "('temperature', 0.09122430841618906)\n"
     ]
    },
    {
     "data": {
      "image/png": "[encoded data removed]",
      "text/plain": [
       "<Figure size 1440x720 with 1 Axes>"
      ]
     },
     "metadata": {
      "needs_background": "light"
     },
     "output_type": "display_data"
    }
   ],
   "source": [
    "# Print the name and gini importance of each feature\n",
    "for feature in zip(X_train.columns, rfc.feature_importances_):\n",
    "    print(feature)\n",
    "\n",
    "#Plot feature importance\n",
    "import seaborn as sns\n",
    "feature_imp_RF = rfc.feature_importances_\n",
    "\n",
    "#relative feature importance  \n",
    "rel_feature_imp = 100 * (feature_imp_RF / max(feature_imp_RF)) \n",
    "rel_feature_imp = pd.DataFrame({'features':list(X_train.columns),\n",
    "                                'rel_importance':rel_feature_imp })\n",
    "\n",
    "rel_feature_imp = rel_feature_imp.sort_values('rel_importance', ascending=False)\n",
    "\n",
    "plt.figure(figsize=[20,10])\n",
    "plt.yticks(fontsize=15)\n",
    "ax = sns.barplot(x=\"rel_importance\", y=\"features\",\n",
    "                 data=rel_feature_imp,\n",
    "                 palette=\"Accent_r\")\n",
    "\n",
    "plt.xlabel(\"Relative Importance\", fontsize=25)\n",
    "plt.ylabel(\"Features\", fontsize=25)\n",
    "plt.show()"
   ]
  },
  {
   "cell_type": "markdown",
   "metadata": {},
   "source": [
    "## Predict and check performance"
   ]
  },
  {
   "cell_type": "code",
   "execution_count": null,
   "metadata": {},
   "outputs": [],
   "source": [
    "#Create function to score dataset\n",
    "def score_dataset(y_test, y_pred):\n",
    "    print('Mean absolute error: {0:.2f}'.format(mean_absolute_error(y_test, y_pred)))\n",
    "    print('Mean squared error: {0:.2f}'.format(mean_squared_error(y_test, y_pred)))\n",
    "    print('Root Mean Square Error: {0:.2f}'.format(np.sqrt(mean_absolute_error(y_test, y_pred))))\n"
   ]
  },
  {
   "cell_type": "code",
   "execution_count": 11,
   "metadata": {},
   "outputs": [
    {
     "name": "stdout",
     "output_type": "stream",
     "text": [
      "Performance using default dataset\n",
      "Mean absolute error: 3.37\n",
      "Mean squared error: 54.69\n",
      "Root Mean Square Error: 1.84\n"
     ]
    }
   ],
   "source": [
    "#Predict and check Performance\n",
    "y_pred = rfc.predict(X_test)\n",
    "print('Performance using default dataset')\n",
    "score_dataset(y_test, y_pred)"
   ]
  },
  {
   "cell_type": "markdown",
   "metadata": {},
   "source": [
    "## USE RANDOM FOREST TO SELECT FEATURES"
   ]
  },
  {
   "cell_type": "code",
   "execution_count": 12,
   "metadata": {},
   "outputs": [
    {
     "name": "stdout",
     "output_type": "stream",
     "text": [
      "Mean Threshold Used: 0.08333333333333333\n",
      "4 important features were selected\n"
     ]
    },
    {
     "data": {
      "text/plain": [
       "Index(['tripDistance', 'hour_of_day', 'day_of_month', 'temperature'], dtype='object')"
      ]
     },
     "execution_count": 12,
     "metadata": {},
     "output_type": "execute_result"
    }
   ],
   "source": [
    "# Create a selector object that will use the random forest classifier to identify Important features.\n",
    "# set threshold to value of 0.20 for features that have an importance of more than 0.20\n",
    "sfm = SelectFromModel(rfc, threshold='mean')\n",
    "\n",
    "# Train the selector\n",
    "sfm.fit(X_train, y_train)\n",
    "\n",
    "#Use get_support method on the fitted model to see which features are important\n",
    "sfm.get_support()\n",
    "\n",
    "#To see threshold used\n",
    "print('Mean Threshold Used: {0}'.format(sfm.threshold_))\n",
    "\n",
    "# Print the names of the most important features\n",
    "important_features = X_train.columns[sfm.get_support()]\n",
    "                                    \n",
    "print('{0} important features were selected'.format(len(important_features)))\n",
    "important_features"
   ]
  },
  {
   "cell_type": "markdown",
   "metadata": {},
   "source": [
    "## Train model using only important features selected"
   ]
  },
  {
   "cell_type": "code",
   "execution_count": 14,
   "metadata": {},
   "outputs": [],
   "source": [
    "# Create a random forest classifier\n",
    "rfc_default = RandomForestClassifier(n_estimators=100, random_state=0, n_jobs=-1)\n",
    "# Train the classifier using important features\n",
    "rfc_default.fit(X_train[important_features], y_train)\n"
   ]
  },
  {
   "cell_type": "markdown",
   "metadata": {},
   "source": [
    "## Predict and Check Performance"
   ]
  },
  {
   "cell_type": "code",
   "execution_count": 15,
   "metadata": {},
   "outputs": [
    {
     "name": "stdout",
     "output_type": "stream",
     "text": [
      "Performance using Important dataset\n",
      "Mean absolute error: 2.74\n",
      "Mean squared error: 29.27\n",
      "Root Mean Square Error: 1.65\n"
     ]
    }
   ],
   "source": [
    "# Apply The Full Featured Classifier To The Test Data\n",
    "y_pred = rfc_default.predict(X_test[important_features]) \n",
    "print('Performance using Important dataset')\n",
    "score_dataset(y_test, y_pred) "
   ]
  },
  {
   "cell_type": "markdown",
   "metadata": {},
   "source": [
    "## Comments"
   ]
  },
  {
   "cell_type": "markdown",
   "metadata": {},
   "source": [
    "Just for a small cost int Performance, we have reduced our features\n",
    "#This method is useful when dealing with So many features and we need to select the Best of the lot\n",
    "#Remember, you can Increase or decrease the threshold to select more or fewer important features\n"
   ]
  },
  {
   "cell_type": "code",
   "execution_count": null,
   "metadata": {},
   "outputs": [],
   "source": []
  }
 ],
 "metadata": {
  "kernelspec": {
   "display_name": "Python 3",
   "language": "python",
   "name": "python3"
  },
  "language_info": {
   "codemirror_mode": {
    "name": "ipython",
    "version": 3
   },
   "file_extension": ".py",
   "mimetype": "text/x-python",
   "name": "python",
   "nbconvert_exporter": "python",
   "pygments_lexer": "ipython3",
   "version": "3.7.3"
  }
 },
 "nbformat": 4,
 "nbformat_minor": 2
}
